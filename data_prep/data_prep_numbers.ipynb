{
 "cells": [
  {
   "cell_type": "code",
   "execution_count": 5,
   "id": "503cee6b",
   "metadata": {},
   "outputs": [],
   "source": [
    "import json\n",
    "import random"
   ]
  },
  {
   "cell_type": "code",
   "execution_count": 53,
   "id": "a2cb4af8",
   "metadata": {},
   "outputs": [],
   "source": [
    "numbers = [\n",
    "  {\"en\": \"one\", \"de\": \"eins\"},\n",
    "  {\"en\": \"two\", \"de\": \"zwei\"},\n",
    "  {\"en\": \"three\", \"de\": \"drei\"},\n",
    "  {\"en\": \"four\", \"de\": \"vier\"},\n",
    "  {\"en\": \"five\", \"de\": \"fünf\"},\n",
    "  {\"en\": \"six\", \"de\": \"sechs\"},\n",
    "  {\"en\": \"seven\", \"de\": \"sieben\"},\n",
    "  {\"en\": \"eight\", \"de\": \"acht\"},\n",
    "  {\"en\": \"nine\", \"de\": \"neun\"},\n",
    "  {\"en\": \"ten\", \"de\": \"zehn\"},\n",
    "  {\"en\": \"eleven\", \"de\": \"elf\"},\n",
    "  {\"en\": \"twelve\", \"de\": \"zwölf\"},\n",
    "  {\"en\": \"thirteen\", \"de\": \"dreizehn\"},\n",
    "  {\"en\": \"fourteen\", \"de\": \"vierzehn\"},\n",
    "  {\"en\": \"fifteen\", \"de\": \"fünfzehn\"},\n",
    "  {\"en\": \"sixteen\", \"de\": \"sechzehn\"},\n",
    "  {\"en\": \"seventeen\", \"de\": \"siebzehn\"},\n",
    "  {\"en\": \"eighteen\", \"de\": \"achtzehn\"},\n",
    "  {\"en\": \"nineteen\", \"de\": \"neunzehn\"},\n",
    "  {\"en\": \"twenty\", \"de\": \"zwanzig\"},\n",
    "  {\"en\": \"twenty-one\", \"de\": \"einundzwanzig\"},\n",
    "  {\"en\": \"twenty-two\", \"de\": \"zweiundzwanzig\"},\n",
    "  {\"en\": \"twenty-three\", \"de\": \"dreiundzwanzig\"},\n",
    "  {\"en\": \"twenty-four\", \"de\": \"vierundzwanzig\"},\n",
    "  {\"en\": \"twenty-five\", \"de\": \"fünfundzwanzig\"},\n",
    "  {\"en\": \"twenty-six\", \"de\": \"sechsundzwanzig\"},\n",
    "  {\"en\": \"twenty-seven\", \"de\": \"siebenundzwanzig\"},\n",
    "  {\"en\": \"twenty-eight\", \"de\": \"achtundzwanzig\"},\n",
    "  {\"en\": \"twenty-nine\", \"de\": \"neunundzwanzig\"},\n",
    "  {\"en\": \"thirty\", \"de\": \"dreißig\"},\n",
    "  {\"en\": \"thirty-one\", \"de\": \"einunddreißig\"},\n",
    "  {\"en\": \"thirty-two\", \"de\": \"zweiunddreißig\"},\n",
    "  {\"en\": \"thirty-three\", \"de\": \"dreiunddreißig\"},\n",
    "  {\"en\": \"thirty-four\", \"de\": \"vierunddreißig\"},\n",
    "  {\"en\": \"thirty-five\", \"de\": \"fünfunddreißig\"},\n",
    "  {\"en\": \"thirty-six\", \"de\": \"sechsunddreißig\"},\n",
    "  {\"en\": \"thirty-seven\", \"de\": \"siebenunddreißig\"},\n",
    "  {\"en\": \"thirty-eight\", \"de\": \"achtunddreißig\"},\n",
    "  {\"en\": \"thirty-nine\", \"de\": \"neununddreißig\"},\n",
    "  {\"en\": \"forty\", \"de\": \"vierzig\"},\n",
    "  {\"en\": \"forty-one\", \"de\": \"einundvierzig\"},\n",
    "  {\"en\": \"forty-two\", \"de\": \"zweiundvierzig\"},\n",
    "  {\"en\": \"forty-three\", \"de\": \"dreiundvierzig\"},\n",
    "  {\"en\": \"forty-four\", \"de\": \"vierundvierzig\"},\n",
    "  {\"en\": \"forty-five\", \"de\": \"fünfundvierzig\"},\n",
    "  {\"en\": \"forty-six\", \"de\": \"sechsundvierzig\"},\n",
    "  {\"en\": \"forty-seven\", \"de\": \"siebenundvierzig\"},\n",
    "  {\"en\": \"forty-eight\", \"de\": \"achtundvierzig\"},\n",
    "  {\"en\": \"forty-nine\", \"de\": \"neunundvierzig\"},\n",
    "  {\"en\": \"fifty\", \"de\": \"fünfzig\"},\n",
    "  {\"en\": \"fifty-one\", \"de\": \"einundfünfzig\"},\n",
    "  {\"en\": \"fifty-two\", \"de\": \"zweiundfünfzig\"},\n",
    "  {\"en\": \"fifty-three\", \"de\": \"dreiundfünfzig\"},\n",
    "  {\"en\": \"fifty-four\", \"de\": \"vierundfünfzig\"},\n",
    "  {\"en\": \"fifty-five\", \"de\": \"fünfundfünfzig\"},\n",
    "  {\"en\": \"fifty-six\", \"de\": \"sechsundfünfzig\"},\n",
    "  {\"en\": \"fifty-seven\", \"de\": \"siebenundfünfzig\"},\n",
    "  {\"en\": \"fifty-eight\", \"de\": \"achtundfünfzig\"},\n",
    "  {\"en\": \"fifty-nine\", \"de\": \"neunundfünfzig\"},\n",
    "  {\"en\": \"sixty\", \"de\": \"sechzig\"},\n",
    "  {\"en\": \"sixty-one\", \"de\": \"einundsechzig\"},\n",
    "  {\"en\": \"sixty-two\", \"de\": \"zweiundsechzig\"},\n",
    "  {\"en\": \"sixty-three\", \"de\": \"dreiundsechzig\"},\n",
    "  {\"en\": \"sixty-four\", \"de\": \"vierundsechzig\"},\n",
    "  {\"en\": \"sixty-five\", \"de\": \"fünfundsechzig\"},\n",
    "  {\"en\": \"sixty-six\", \"de\": \"sechsundsechzig\"},\n",
    "  {\"en\": \"sixty-seven\", \"de\": \"siebenundsechzig\"},\n",
    "  {\"en\": \"sixty-eight\", \"de\": \"achtundsechzig\"},\n",
    "  {\"en\": \"sixty-nine\", \"de\": \"neunundsechzig\"},\n",
    "  {\"en\": \"seventy\", \"de\": \"siebzig\"},\n",
    "  {\"en\": \"seventy-one\", \"de\": \"einundsiebzig\"},\n",
    "  {\"en\": \"seventy-two\", \"de\": \"zweiundsiebzig\"},\n",
    "  {\"en\": \"seventy-three\", \"de\": \"dreiundsiebzig\"},\n",
    "  {\"en\": \"seventy-four\", \"de\": \"vierundsiebzig\"},\n",
    "  {\"en\": \"seventy-five\", \"de\": \"fünfundsiebzig\"},\n",
    "  {\"en\": \"seventy-six\", \"de\": \"sechsundsiebzig\"},\n",
    "  {\"en\": \"seventy-seven\", \"de\": \"siebenundsiebzig\"},\n",
    "  {\"en\": \"seventy-eight\", \"de\": \"achtundsiebzig\"},\n",
    "  {\"en\": \"seventy-nine\", \"de\": \"neunundsiebzig\"},\n",
    "  {\"en\": \"eighty\", \"de\": \"achtzig\"},\n",
    "  {\"en\": \"eighty-one\", \"de\": \"einundachtzig\"},\n",
    "  {\"en\": \"eighty-two\", \"de\": \"zweiundachtzig\"},\n",
    "  {\"en\": \"eighty-three\", \"de\": \"dreiundachtzig\"},\n",
    "  {\"en\": \"eighty-four\", \"de\": \"vierundachtzig\"},\n",
    "  {\"en\": \"eighty-five\", \"de\": \"fünfundachtzig\"},\n",
    "  {\"en\": \"eighty-six\", \"de\": \"sechsundachtzig\"},\n",
    "  {\"en\": \"eighty-seven\", \"de\": \"siebenundachtzig\"},\n",
    "  {\"en\": \"eighty-eight\", \"de\": \"achtundachtzig\"},\n",
    "  {\"en\": \"eighty-nine\", \"de\": \"neunundachtzig\"},\n",
    "  {\"en\": \"ninety\", \"de\": \"neunzig\"},\n",
    "  {\"en\": \"ninety-one\", \"de\": \"einundneunzig\"},\n",
    "  {\"en\": \"ninety-two\", \"de\": \"zweiundneunzig\"},\n",
    "  {\"en\": \"ninety-three\", \"de\": \"dreiundneunzig\"},\n",
    "  {\"en\": \"ninety-four\", \"de\": \"vierundneunzig\"},\n",
    "  {\"en\": \"ninety-five\", \"de\": \"fünfundneunzig\"},\n",
    "  {\"en\": \"ninety-six\", \"de\": \"sechsundneunzig\"},\n",
    "  {\"en\": \"ninety-seven\", \"de\": \"siebenundneunzig\"},\n",
    "  {\"en\": \"ninety-eight\", \"de\": \"achtundneunzig\"},\n",
    "  {\"en\": \"ninety-nine\", \"de\": \"neunundneunzig\"},\n",
    "  {\"en\": \"one hundred\", \"de\": \"einhundert\"}\n",
    "]\n"
   ]
  },
  {
   "cell_type": "code",
   "execution_count": 7,
   "id": "bcf587d3",
   "metadata": {},
   "outputs": [],
   "source": [
    "en_list = [i['en'] for i in numbers]\n",
    "de_list = [i['de'] for i in numbers]"
   ]
  },
  {
   "cell_type": "code",
   "execution_count": null,
   "id": "3539dcb9",
   "metadata": {},
   "outputs": [],
   "source": [
    "def get_numbers():\n",
    "    example = random.choice(numbers)\n",
    "    en_example = example['en']\n",
    "    de_example = example['de']\n",
    "\n",
    "    en_options = []\n",
    "\n",
    "    i = 0\n",
    "\n",
    "    while i <4:\n",
    "        en_option = random.choice(en_list)\n",
    "        if en_option != en_example:\n",
    "            en_options.append(en_option)\n",
    "            i += 1\n",
    "\n",
    "    en_options.append(en_example)\n",
    "\n",
    "    return {\n",
    "        \"true\": de_example,\n",
    "        \"options\": en_options,\n",
    "        \"correct_option\":en_example\n",
    "    }"
   ]
  },
  {
   "cell_type": "code",
   "execution_count": 48,
   "id": "4a22afa9",
   "metadata": {},
   "outputs": [
    {
     "data": {
      "text/plain": [
       "{'true': 'siebenunddreißig',\n",
       " 'options': ['eighty',\n",
       "  'twenty',\n",
       "  'sixty-three',\n",
       "  'seventy-eight',\n",
       "  'thirty-seven'],\n",
       " 'correct_option': 'thirty-seven'}"
      ]
     },
     "execution_count": 48,
     "metadata": {},
     "output_type": "execute_result"
    }
   ],
   "source": [
    "get_numbers()"
   ]
  },
  {
   "cell_type": "code",
   "execution_count": 49,
   "id": "73c28f46",
   "metadata": {},
   "outputs": [],
   "source": [
    "numbers = [get_numbers() for _ in range(1000)]"
   ]
  },
  {
   "cell_type": "code",
   "execution_count": 50,
   "id": "80c8c83b",
   "metadata": {},
   "outputs": [],
   "source": [
    "with open('/Users/anilbattalahalli/coding/python_stuff/mint_lang/saurkraut/maatukalike/data_prep/numbers.json', 'w') as f:\n",
    "    json.dump(numbers, f)"
   ]
  },
  {
   "cell_type": "markdown",
   "id": "44c5f835",
   "metadata": {},
   "source": [
    "The other way"
   ]
  },
  {
   "cell_type": "code",
   "execution_count": 60,
   "id": "2fefc239",
   "metadata": {},
   "outputs": [],
   "source": [
    "def get_numbers():\n",
    "    example = random.choice(numbers)\n",
    "    en_example = example['en']\n",
    "    de_example = example['de']\n",
    "\n",
    "    de_options = []\n",
    "\n",
    "    i = 0\n",
    "\n",
    "    while i <4:\n",
    "        de_option = random.choice(de_list)\n",
    "        if de_option != de_example:\n",
    "            de_options.append(de_option)\n",
    "            i += 1\n",
    "\n",
    "    de_options.append(de_example)\n",
    "\n",
    "    return {\n",
    "        \"true\": en_example,\n",
    "        \"options\": de_options,\n",
    "        \"correct_option\":de_example\n",
    "    }"
   ]
  },
  {
   "cell_type": "code",
   "execution_count": 62,
   "id": "31efa230",
   "metadata": {},
   "outputs": [
    {
     "data": {
      "text/plain": [
       "{'true': 'seventy-six',\n",
       " 'options': ['vierundvierzig',\n",
       "  'fünfundsechzig',\n",
       "  'neunzig',\n",
       "  'neunundneunzig',\n",
       "  'sechsundsiebzig'],\n",
       " 'correct_option': 'sechsundsiebzig'}"
      ]
     },
     "execution_count": 62,
     "metadata": {},
     "output_type": "execute_result"
    }
   ],
   "source": [
    "get_numbers()"
   ]
  },
  {
   "cell_type": "code",
   "execution_count": 63,
   "id": "d911c4b2",
   "metadata": {},
   "outputs": [],
   "source": [
    "numbers = [get_numbers() for _ in range(10000)]"
   ]
  },
  {
   "cell_type": "code",
   "execution_count": 64,
   "id": "d22461bf",
   "metadata": {},
   "outputs": [],
   "source": [
    "with open('/Users/anilbattalahalli/coding/python_stuff/mint_lang/saurkraut/maatukalike/pages/numbers_en_to_de.json', 'w') as f:\n",
    "    json.dump(numbers, f)"
   ]
  }
 ],
 "metadata": {
  "kernelspec": {
   "display_name": "mint_lang_v2",
   "language": "python",
   "name": "python3"
  },
  "language_info": {
   "codemirror_mode": {
    "name": "ipython",
    "version": 3
   },
   "file_extension": ".py",
   "mimetype": "text/x-python",
   "name": "python",
   "nbconvert_exporter": "python",
   "pygments_lexer": "ipython3",
   "version": "3.11.12"
  }
 },
 "nbformat": 4,
 "nbformat_minor": 5
}
